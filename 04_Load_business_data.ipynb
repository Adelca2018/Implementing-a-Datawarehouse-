{
 "cells": [
  {
   "cell_type": "code",
   "execution_count": 5,
   "metadata": {},
   "outputs": [],
   "source": [
    "import pandas as pd\n",
    "import datetime as dt\n",
    "import hashlib\n",
    "import mysql.connector"
   ]
  },
  {
   "cell_type": "code",
   "execution_count": 6,
   "metadata": {},
   "outputs": [],
   "source": [
    "conn = mysql.connector.connect(host='localhost',\n",
    "                                         database='rossmann',\n",
    "                                         user='root',\n",
    "                                         password='root')\n",
    "cursor = conn.cursor(buffered=True)\n"
   ]
  },
  {
   "cell_type": "code",
   "execution_count": 7,
   "metadata": {},
   "outputs": [],
   "source": [
    "query= \"\"\" insert into sat_day_report (DAY_HSH,SALES_COUNT,CUSTOMER_COUNT)\n",
    "        select h.DAY_HSH,  SUM(SALES), SUM(CUSTOMERS) FROM sat_day_facts s inner join link_day l \n",
    "        on s.LINK_DAY_HSH=l.LINK_DAY_HSH inner join hub_day  h  on h.DAY_HSH=l.DAY_HSH\n",
    "        group by h.DAY_HSH; \"\"\" \n",
    "\n",
    "try:\n",
    "    cursor.execute(query)\n",
    "except mysql.connector.IntegrityError as e:\n",
    "        print(\"error code:\",e)"
   ]
  },
  {
   "cell_type": "code",
   "execution_count": 8,
   "metadata": {},
   "outputs": [
    {
     "data": {
      "text/html": [
       "<div>\n",
       "<style scoped>\n",
       "    .dataframe tbody tr th:only-of-type {\n",
       "        vertical-align: middle;\n",
       "    }\n",
       "\n",
       "    .dataframe tbody tr th {\n",
       "        vertical-align: top;\n",
       "    }\n",
       "\n",
       "    .dataframe thead th {\n",
       "        text-align: right;\n",
       "    }\n",
       "</style>\n",
       "<table border=\"1\" class=\"dataframe\">\n",
       "  <thead>\n",
       "    <tr style=\"text-align: right;\">\n",
       "      <th></th>\n",
       "      <th>DAY_HSH</th>\n",
       "      <th>SALES_COUNT</th>\n",
       "      <th>CUSTOMER_COUNT</th>\n",
       "    </tr>\n",
       "  </thead>\n",
       "  <tbody>\n",
       "    <tr>\n",
       "      <th>0</th>\n",
       "      <td>00147b0df0502364b1c76eaf89b2d469</td>\n",
       "      <td>5878702</td>\n",
       "      <td>736906</td>\n",
       "    </tr>\n",
       "    <tr>\n",
       "      <th>1</th>\n",
       "      <td>001c70302cc8bc9964693d52fb3d5b0c</td>\n",
       "      <td>7738889</td>\n",
       "      <td>852829</td>\n",
       "    </tr>\n",
       "    <tr>\n",
       "      <th>2</th>\n",
       "      <td>00de651aae828626819b1e6d71ca46ad</td>\n",
       "      <td>6008503</td>\n",
       "      <td>722458</td>\n",
       "    </tr>\n",
       "    <tr>\n",
       "      <th>3</th>\n",
       "      <td>013310d4f9f0b3fbb454958e069e1d2e</td>\n",
       "      <td>7728892</td>\n",
       "      <td>820715</td>\n",
       "    </tr>\n",
       "    <tr>\n",
       "      <th>4</th>\n",
       "      <td>014ee167e3d9942f4d0dbbcb25251e0b</td>\n",
       "      <td>10357418</td>\n",
       "      <td>1109623</td>\n",
       "    </tr>\n",
       "    <tr>\n",
       "      <th>5</th>\n",
       "      <td>0150a35d4d40a493b79381c702989272</td>\n",
       "      <td>4534864</td>\n",
       "      <td>531392</td>\n",
       "    </tr>\n",
       "    <tr>\n",
       "      <th>6</th>\n",
       "      <td>01802aa4d499775a9d1f0374a78c0afa</td>\n",
       "      <td>-856</td>\n",
       "      <td>-856</td>\n",
       "    </tr>\n",
       "    <tr>\n",
       "      <th>7</th>\n",
       "      <td>018b9f8fe5d596feb839d0e15431ecf9</td>\n",
       "      <td>6829093</td>\n",
       "      <td>733408</td>\n",
       "    </tr>\n",
       "    <tr>\n",
       "      <th>8</th>\n",
       "      <td>018f091c1c4acf18aa4860c095796128</td>\n",
       "      <td>8444592</td>\n",
       "      <td>908176</td>\n",
       "    </tr>\n",
       "    <tr>\n",
       "      <th>9</th>\n",
       "      <td>01aeda08914fe2668f4f16ec4f76a1e0</td>\n",
       "      <td>8084449</td>\n",
       "      <td>870146</td>\n",
       "    </tr>\n",
       "  </tbody>\n",
       "</table>\n",
       "</div>"
      ],
      "text/plain": [
       "                            DAY_HSH  SALES_COUNT  CUSTOMER_COUNT\n",
       "0  00147b0df0502364b1c76eaf89b2d469      5878702          736906\n",
       "1  001c70302cc8bc9964693d52fb3d5b0c      7738889          852829\n",
       "2  00de651aae828626819b1e6d71ca46ad      6008503          722458\n",
       "3  013310d4f9f0b3fbb454958e069e1d2e      7728892          820715\n",
       "4  014ee167e3d9942f4d0dbbcb25251e0b     10357418         1109623\n",
       "5  0150a35d4d40a493b79381c702989272      4534864          531392\n",
       "6  01802aa4d499775a9d1f0374a78c0afa         -856            -856\n",
       "7  018b9f8fe5d596feb839d0e15431ecf9      6829093          733408\n",
       "8  018f091c1c4acf18aa4860c095796128      8444592          908176\n",
       "9  01aeda08914fe2668f4f16ec4f76a1e0      8084449          870146"
      ]
     },
     "execution_count": 8,
     "metadata": {},
     "output_type": "execute_result"
    }
   ],
   "source": [
    "pd.read_sql_query(\" Select * FROM sat_day_report;\", con=conn).head(10)"
   ]
  },
  {
   "cell_type": "code",
   "execution_count": null,
   "metadata": {},
   "outputs": [],
   "source": [
    "select \n",
    "    t.storeid as storeid,\n",
    "    t.artid as artid,\n",
    "    t.totamount,\n",
    "    t.hour,\n",
    "    (\n",
    "        select 1 + count(*)\n",
    "        from t t1\n",
    "        where \n",
    "            t1.storeid = t.storeid \n",
    "            and t1.artid = t.artid\n",
    "            and t1.hour > t.hour\n",
    "\n",
    "    ) as rn\n",
    "from t\n",
    "order by t.storeid, t.artid\n",
    "\n",
    "WITH t AS\n",
    " (select h.STORE_HSH,  AVG(s.SALES) as SALES_AVG , AVG(s.CUSTOMERS) as CSTMR_AVG\n",
    " FROM sat_day_facts s inner join link_day l\n",
    "  on s.LINK_DAY_HSH=l.LINK_DAY_HSH inner join hub_store  h  on h.STORE_HSH=l.STORE_HSH\n",
    "  group by h.STORE_HSH)\n",
    "\n",
    "  select t.STORE_HSH, NOW() as LOAD_DATETIME, NOW() as LOAD_END_DATETIME, t.SALES_AVG, t.CSTMR_AVG,\n",
    "  (  select 1 + count(*)\n",
    "      from t t1\n",
    "      where  t1.SALES_AVG > t.SALES_AVG) as SALES_RANK;\n"
   ]
  },
  {
   "cell_type": "code",
   "execution_count": 10,
   "metadata": {},
   "outputs": [],
   "source": [
    "query= \"\"\"   insert into sat_store_biz (STORE_HSH, LOAD_DATETIME, LOAD_END_DATETIME,SALES_AVG, CSTMR_AVG, SALES_RANK)\n",
    "              WITH t as  (select h.STORE_HSH,  AVG(s.SALES) as SALES_AVG , AVG(s.CUSTOMERS) as CSTMR_AVG \n",
    "              FROM sat_day_facts s inner join link_day l \n",
    "              on s.LINK_DAY_HSH=l.LINK_DAY_HSH inner join hub_store  h  on h.STORE_HSH=l.STORE_HSH \n",
    "                  group by h.STORE_HSH) \n",
    "           select t.STORE_HSH, NOW() as LOAD_DATETIME, NOW() as LOAD_END_DATETIME, t.SALES_AVG, t.CSTMR_AVG,\n",
    "          (  select 1 + count(*)\n",
    "            from t t1\n",
    "            where  t1.SALES_AVG > t.SALES_AVG\n",
    "           ) as SALES_RANK\n",
    "           from t\n",
    "        \n",
    "            ; \"\"\" \n",
    "\n",
    "try:\n",
    "    cursor.execute(query)\n",
    "except mysql.connector.IntegrityError as e:\n",
    "        print(\"error code:\",e)"
   ]
  },
  {
   "cell_type": "code",
   "execution_count": null,
   "metadata": {},
   "outputs": [],
   "source": [
    "cursor.close()\n",
    "conn.commit()\n",
    "conn.close()"
   ]
  },
  {
   "cell_type": "code",
   "execution_count": null,
   "metadata": {},
   "outputs": [],
   "source": []
  }
 ],
 "metadata": {
  "kernelspec": {
   "display_name": "Python 3",
   "language": "python",
   "name": "python3"
  },
  "language_info": {
   "codemirror_mode": {
    "name": "ipython",
    "version": 3
   },
   "file_extension": ".py",
   "mimetype": "text/x-python",
   "name": "python",
   "nbconvert_exporter": "python",
   "pygments_lexer": "ipython3",
   "version": "3.8.3"
  }
 },
 "nbformat": 4,
 "nbformat_minor": 4
}
