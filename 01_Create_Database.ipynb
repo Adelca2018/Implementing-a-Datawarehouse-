{
 "cells": [
  {
   "cell_type": "code",
   "execution_count": 3,
   "metadata": {},
   "outputs": [],
   "source": [
    "import mysql.connector\n",
    "from mysql.connector import Error\n",
    "import os\n",
    "import ctypes\n"
   ]
  },
  {
   "cell_type": "code",
   "execution_count": null,
   "metadata": {},
   "outputs": [],
   "source": [
    "\n",
    "try:\n",
    "    conn = mysql.connector.connect(host='localhost',\n",
    "                                         user='root',\n",
    "                                         password='root')\n",
    "    if conn.is_connected():\n",
    "        #read sql statements\n",
    "        query=open('SQL_Code_Database_Creation.sql','r').read()\n",
    "        cursor = conn.cursor(buffered=True)\n",
    "        results = cursor.execute(query, multi=True)\n",
    "        '''for cur in results:\n",
    "            print(type(cur))\n",
    "            print('cursor:', cur)\n",
    "            if cur.with_rows:\n",
    "                print('cursor:', cur) \n",
    "                print('result:', cur.fetchall())'''\n",
    "        \n",
    "except Error as e:\n",
    "    print(\"Error while connecting to MySQL\", e)\n",
    "finally:\n",
    "    if (conn.is_connected()):\n",
    "        cursor.close()\n",
    "        conn.commit()\n",
    "        conn.close()\n",
    "        print(\"MySQL connection is closed\")"
   ]
  },
  {
   "cell_type": "code",
   "execution_count": 7,
   "metadata": {},
   "outputs": [],
   "source": []
  }
 ],
 "metadata": {
  "kernelspec": {
   "display_name": "Python 3",
   "language": "python",
   "name": "python3"
  },
  "language_info": {
   "codemirror_mode": {
    "name": "ipython",
    "version": 3
   },
   "file_extension": ".py",
   "mimetype": "text/x-python",
   "name": "python",
   "nbconvert_exporter": "python",
   "pygments_lexer": "ipython3",
   "version": "3.8.3"
  }
 },
 "nbformat": 4,
 "nbformat_minor": 2
}
